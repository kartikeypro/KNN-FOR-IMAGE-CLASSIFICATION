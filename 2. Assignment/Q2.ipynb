{
 "cells": [
  {
   "cell_type": "code",
   "execution_count": 2,
   "metadata": {},
   "outputs": [],
   "source": [
    "import numpy as np\n",
    "import matplotlib.pyplot as plt\n",
    "import os\n",
    "import cv2 \n",
    "DATADIR=\"./Train\"  #Directory where images are stored in folder Cat and Dog\n",
    "CATEGORIES=[\"Cat\", \"Dog\"] #Equivalent to the names given in parent directory\n",
    "IMG_SIZE=60 #This is used to standardize the size of the image\n",
    "train_data=[] #Array to store the training data\n",
    "def create_training_data():\n",
    "    for category in CATEGORIES:\n",
    "        path=os.path.join(DATADIR, category)\n",
    "        class_num= CATEGORIES.index(category) #Cat:0 and Dog:1\n",
    "        for img in os.listdir(path):\n",
    "            try:   #Error is called if any broken image is encountered\n",
    "                img_array=cv2.imread(os.path.join(path,img), cv2.IMREAD_COLOR) \n",
    "                new_array= cv2.resize(img_array, (IMG_SIZE,IMG_SIZE)) \n",
    "                train_data.append([new_array,class_num])\n",
    "            except Exception as e:\n",
    "                pass \n",
    "create_training_data()"
   ]
  },
  {
   "cell_type": "code",
   "execution_count": 3,
   "metadata": {},
   "outputs": [],
   "source": [
    "import random\n",
    "random.shuffle(train_data)"
   ]
  },
  {
   "cell_type": "code",
   "execution_count": 4,
   "metadata": {},
   "outputs": [],
   "source": [
    "train_X=[] \n",
    "train_Y=[]\n",
    "for features, labels in train_data:\n",
    "    train_X.append(features)\n",
    "    train_Y.append(labels)"
   ]
  },
  {
   "cell_type": "code",
   "execution_count": 5,
   "metadata": {
    "scrolled": true
   },
   "outputs": [
    {
     "name": "stdout",
     "output_type": "stream",
     "text": [
      "It is a Cat\n"
     ]
    },
    {
     "data": {
      "image/png": "[encoded data removed]",
      "text/plain": [
       "<Figure size 432x288 with 1 Axes>"
      ]
     },
     "metadata": {
      "needs_background": "light"
     },
     "output_type": "display_data"
    }
   ],
   "source": [
    "plt.imshow(train_X[1], cmap='gray')\n",
    "print(\"It is a\", CATEGORIES[train_Y[1]])\n",
    "plt.show()"
   ]
  },
  {
   "cell_type": "code",
   "execution_count": 6,
   "metadata": {},
   "outputs": [],
   "source": [
    "for feature, label in train_data:\n",
    "    mirror_image=np.fliplr(feature) #Rotating each image by 180 degree\n",
    "    train_X.append(mirror_image)\n",
    "    train_Y.append(label)"
   ]
  },
  {
   "cell_type": "code",
   "execution_count": 7,
   "metadata": {},
   "outputs": [],
   "source": [
    "DATADIR=\"/Users/kartikeygarg/Desktop/Assignment/Test\"  #Directory where images are stored in folder Cat and Dog\n",
    "CATEGORIES=[\"Cat\", \"Dog\"] #Equivalent to the names given in parent directory\n",
    "IMG_SIZE=60 #This is used to standardize the size of the image\n",
    "train_data=[] #Array to store the training data\n",
    "def create_testing_data():\n",
    "    for category in CATEGORIES:\n",
    "        path=os.path.join(DATADIR, category)\n",
    "        class_num= CATEGORIES.index(category) #Cat:0 and Dog:1\n",
    "        for img in os.listdir(path):\n",
    "            try:   #Error is called if any broken image is encountered\n",
    "                img_array=cv2.imread(os.path.join(path,img), cv2.IMREAD_COLOR)\n",
    "                new_array= cv2.resize(img_array, (IMG_SIZE,IMG_SIZE)) \n",
    "                train_data.append([new_array,class_num])\n",
    "            except Exception as e:\n",
    "                pass \n",
    "create_testing_data()\n",
    "import random\n",
    "random.shuffle(train_data)\n",
    "test_X=[] \n",
    "test_Y=[]\n",
    "for features, labels in train_data:\n",
    "    test_X.append(features)\n",
    "    test_Y.append(labels)"
   ]
  },
  {
   "cell_type": "code",
   "execution_count": 8,
   "metadata": {},
   "outputs": [
    {
     "name": "stdout",
     "output_type": "stream",
     "text": [
      "(10800, 80)\n",
      "(10800, 4)\n"
     ]
    }
   ],
   "source": [
    "#I am flattening the images so that they can be take as an input in the perceptron. \n",
    "train_X_flatten=np.array(train_X).reshape(np.array(train_X).shape[0],-1).T\n",
    "print(train_X_flatten.shape)\n",
    "test_X_flatten=np.array(test_X).reshape(np.array(test_X).shape[0],-1).T\n",
    "print(test_X_flatten.shape)"
   ]
  },
  {
   "cell_type": "code",
   "execution_count": 9,
   "metadata": {},
   "outputs": [],
   "source": [
    "#We also have to normalise the training and testing set as it would make the learning much faster.\n",
    "train_X_norm=train_X_flatten/255 \n",
    "test_X_norm=test_X_flatten/255"
   ]
  },
  {
   "cell_type": "markdown",
   "metadata": {},
   "source": [
    "### The above portion will remain same for all the questions with little changes. It concerns with data extraction, compilation and augmentation. We will build perceptron from hereon."
   ]
  },
  {
   "cell_type": "code",
   "execution_count": 10,
   "metadata": {},
   "outputs": [],
   "source": [
    "# Function to compute sigmoid for a given scalar value or array N\n",
    "def sigmoid(N): \n",
    "    result = 1/(1+np.exp(-N))    \n",
    "    return result"
   ]
  },
  {
   "cell_type": "code",
   "execution_count": 11,
   "metadata": {},
   "outputs": [],
   "source": [
    "# Now we have to give weight to each input. For that we will first initalize parameters w, weight and b, bias\n",
    "def initialize(dim):\n",
    "    #dim is the dimension of the input which we are feeding to the perceptron\n",
    "    w = np.zeros((dim,1))\n",
    "    #bias is only a single value for each input\n",
    "    b = 0\n",
    "    assert(w.shape == (dim, 1)) # This is used to ensure that w has appropriate dimensions\n",
    "    assert(isinstance(b, float) or isinstance(b, int))\n",
    "    return w, b"
   ]
  },
  {
   "cell_type": "markdown",
   "metadata": {},
   "source": [
    "#### As we are done with initalization part we can now look at forward and backward propogation. I have not performed any derviations in the code but used direct results."
   ]
  },
  {
   "cell_type": "code",
   "execution_count": 12,
   "metadata": {},
   "outputs": [],
   "source": [
    "def propagate(w, b, X, Y):\n",
    "    m = X.shape[1]\n",
    "    A = sigmoid(np.dot(w.T,X)+b) # computing sigmoid\n",
    "    cost = -1/m*np.sum(Y*np.log(A)+(1-Y)*np.log(1-A)) \n",
    "    F=A-Y\n",
    "    dw = 1/m*np.dot(X,F.T)\n",
    "    db = 1/m*np.sum(F)\n",
    "    assert(dw.shape == w.shape)\n",
    "    assert(db.dtype == float)\n",
    "    cost = np.squeeze(cost)\n",
    "    assert(cost.shape == ())\n",
    "    \n",
    "    grads = {\"dw\": dw,\n",
    "             \"db\": db}\n",
    "    \n",
    "    return grads, cost"
   ]
  },
  {
   "cell_type": "code",
   "execution_count": null,
   "metadata": {},
   "outputs": [],
   "source": []
  },
  {
   "cell_type": "markdown",
   "metadata": {},
   "source": [
    "#### Now we'll try to update the parameters w and b using optimisation algorithm given below"
   ]
  },
  {
   "cell_type": "code",
   "execution_count": 13,
   "metadata": {},
   "outputs": [],
   "source": [
    "def optimize(w, b, X, Y, num_iterations, learning_rate, print_cost = False):\n",
    "    costs = []\n",
    "    for i in range(num_iterations): #number of times weights will be updated\n",
    "        grads, cost = propagate(w, b, X, Y)\n",
    "        dw = grads[\"dw\"]\n",
    "        db = grads[\"db\"]\n",
    "        w = w-learning_rate*dw\n",
    "        b = b-learning_rate*db\n",
    "        if i % 100 == 0:\n",
    "            costs.append(cost)     \n",
    "        if print_cost and i % 100 == 0:     # Print the cost after every 100 training iterations\n",
    "            print (\"Cost after iteration %i: %f\" %(i, cost))\n",
    "    params = {\"w\": w,\n",
    "              \"b\": b}   \n",
    "    grads = {\"dw\": dw,\n",
    "             \"db\": db}\n",
    "    \n",
    "    return params, grads, costs"
   ]
  },
  {
   "cell_type": "code",
   "execution_count": 14,
   "metadata": {},
   "outputs": [],
   "source": [
    "def predict(w, b, X):\n",
    "    m = X.shape[1]\n",
    "    Y_prediction = np.zeros((1,m))\n",
    "    A = sigmoid(-(np.dot(w.T,X)+b))\n",
    "    for i in range(A.shape[1]):\n",
    "            if(A[0][i]<=0.5):\n",
    "                Y_prediction[0][i]=1\n",
    "            else:\n",
    "                Y_prediction[0][i]=0\n",
    "    assert(Y_prediction.shape == (1, m))\n",
    "    return Y_prediction"
   ]
  },
  {
   "cell_type": "code",
   "execution_count": 15,
   "metadata": {},
   "outputs": [],
   "source": [
    "# GRADED FUNCTION: model\n",
    "\n",
    "def model(train_X, train_Y, test_X, test_Y, num_iterations = 2000, learning_rate = 0.5, print_cost = False):\n",
    "    b = 0\n",
    "    w= np.zeros((2,1))\n",
    "    nw= np.zeros((train_X.shape[0],1))\n",
    "    parameters, grads, costs = optimize(nw, b, train_X, train_Y, num_iterations, learning_rate, print_cost)\n",
    "    # Retrieve parameters w and b from dictionary \"parameters\"\n",
    "    w = parameters[\"w\"]\n",
    "    b = parameters[\"b\"]\n",
    "    nw= np.zeros((test_X.shape[0],1))\n",
    "    Y_prediction_test = predict(w, b, test_X)\n",
    "    nw=np.zeros((train_X.shape[0],1))\n",
    "    Y_prediction_train = predict(w, b, train_X)\n",
    "\n",
    "    print(\"train accuracy: {} %\".format(100 - np.mean(np.abs(Y_prediction_train - train_Y)) * 100))\n",
    "    print(\"test accuracy: {} %\".format(100 - np.mean(np.abs(Y_prediction_test - test_Y)) * 100))\n",
    "\n",
    "    \n",
    "    d = {\"costs\": costs,\n",
    "         \"Y_prediction_test\": Y_prediction_test, \n",
    "         \"Y_prediction_train\" : Y_prediction_train, \n",
    "         \"w\" : w, \n",
    "         \"b\" : b,\n",
    "         \"learning_rate\" : learning_rate,\n",
    "         \"num_iterations\": num_iterations}\n",
    "    \n",
    "    return d"
   ]
  },
  {
   "cell_type": "code",
   "execution_count": 16,
   "metadata": {},
   "outputs": [
    {
     "name": "stdout",
     "output_type": "stream",
     "text": [
      "train accuracy: 100.0 %\n",
      "test accuracy: 100.0 %\n"
     ]
    },
    {
     "data": {
      "text/plain": [
       "{'costs': [0.6931471805599454,\n",
       "  0.23145048795710035,\n",
       "  0.13874477069953822,\n",
       "  0.10125352035015647,\n",
       "  0.07940905022119615,\n",
       "  0.06518182383180315,\n",
       "  0.055209355161009825,\n",
       "  0.04784486998705695,\n",
       "  0.042190456078079336,\n",
       "  0.0377162068106685,\n",
       "  0.034089779756757484,\n",
       "  0.031092435938591623,\n",
       "  0.028574450712753968,\n",
       "  0.026429954801489824,\n",
       "  0.024582012180378355,\n",
       "  0.022973391396331696,\n",
       "  0.021560651181868486,\n",
       "  0.020310232076850867,\n",
       "  0.019195803804267303,\n",
       "  0.01819642221540573],\n",
       " 'Y_prediction_test': array([[0., 1., 0., 1.]]),\n",
       " 'Y_prediction_train': array([[0., 1., 1., 0., 1., 0., 1., 0., 1., 1., 0., 1., 1., 0., 0., 1.,\n",
       "         0., 0., 0., 0., 0., 1., 1., 0., 1., 0., 1., 1., 1., 0., 0., 1.,\n",
       "         1., 1., 1., 0., 0., 0., 1., 0., 0., 1., 1., 0., 1., 0., 1., 0.,\n",
       "         1., 1., 0., 1., 1., 0., 0., 1., 0., 0., 0., 0., 0., 1., 1., 0.,\n",
       "         1., 0., 1., 1., 1., 0., 0., 1., 1., 1., 1., 0., 0., 0., 1., 0.]]),\n",
       " 'w': array([[-0.00968775],\n",
       "        [-0.00859336],\n",
       "        [-0.02937661],\n",
       "        ...,\n",
       "        [-0.02500512],\n",
       "        [-0.00520839],\n",
       "        [-0.02214238]]),\n",
       " 'b': 0.017437710462172653,\n",
       " 'learning_rate': 0.005,\n",
       " 'num_iterations': 2000}"
      ]
     },
     "execution_count": 16,
     "metadata": {},
     "output_type": "execute_result"
    }
   ],
   "source": [
    "model(train_X_norm,np.array(train_Y).T,test_X_norm,np.array(test_Y).T,learning_rate=0.005)"
   ]
  },
  {
   "cell_type": "markdown",
   "metadata": {},
   "source": [
    "### As can be seen above we have acheived 100% accuracy. "
   ]
  },
  {
   "cell_type": "markdown",
   "metadata": {},
   "source": [
    "#### Here I will save the data so that it can be used in future without the need of long code that I have written in the 1st half of the code."
   ]
  },
  {
   "cell_type": "code",
   "execution_count": 17,
   "metadata": {},
   "outputs": [],
   "source": [
    "import pickle\n",
    "pickle_out=open(\"train_X.pickle\",\"wb\")\n",
    "pickle.dump(train_X, pickle_out)\n",
    "pickle_out.close()\n",
    "pickle_out=open(\"train_Y.pickle\",\"wb\")\n",
    "pickle.dump(train_Y, pickle_out)\n",
    "pickle_out.close()\n",
    "pickle_out=open(\"test_X.pickle\",\"wb\")\n",
    "pickle.dump(test_X, pickle_out)\n",
    "pickle_out.close()\n",
    "pickle_out=open(\"test_Y.pickle\",\"wb\")\n",
    "pickle.dump(test_Y, pickle_out)\n",
    "pickle_out.close()"
   ]
  },
  {
   "cell_type": "markdown",
   "metadata": {},
   "source": [
    "#### We have created file for future use of this data. We'll use it in ANN_Classifier: Que3."
   ]
  }
 ],
 "metadata": {
  "kernelspec": {
   "display_name": "Python 3",
   "language": "python",
   "name": "python3"
  },
  "language_info": {
   "codemirror_mode": {
    "name": "ipython",
    "version": 3
   },
   "file_extension": ".py",
   "mimetype": "text/x-python",
   "name": "python",
   "nbconvert_exporter": "python",
   "pygments_lexer": "ipython3",
   "version": "3.8.3"
  }
 },
 "nbformat": 4,
 "nbformat_minor": 4
}
