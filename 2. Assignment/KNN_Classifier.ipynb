{
 "cells": [
  {
   "cell_type": "markdown",
   "metadata": {},
   "source": [
    "#### First we need to prepare the data."
   ]
  },
  {
   "cell_type": "code",
   "execution_count": 2,
   "metadata": {},
   "outputs": [],
   "source": [
    "import numpy as np\n",
    "import matplotlib.pyplot as plt\n",
    "import os\n",
    "import cv2 \n",
    "DATADIR=\"./Train\"  #Directory where images are stored in folder Cat and Dog\n",
    "CATEGORIES=[\"Cat\", \"Dog\"] #Equivalent to the names given in parent directory\n",
    "IMG_SIZE=60 #This is used to standardize the size of the image\n",
    "train_data=[] #Array to store the training data\n",
    "def create_training_data():\n",
    "    for category in CATEGORIES:\n",
    "        path=os.path.join(DATADIR, category)\n",
    "        class_num= CATEGORIES.index(category) #Cat:0 and Dog:1\n",
    "        for img in os.listdir(path):\n",
    "            try:   #Error is called if any broken image is encountered\n",
    "                img_array=cv2.imread(os.path.join(path,img), cv2.IMREAD_GRAYSCALE) # For the sake of simplicity we are converting images into grayscale\n",
    "                new_array= cv2.resize(img_array, (IMG_SIZE,IMG_SIZE)) \n",
    "                train_data.append([new_array,class_num])\n",
    "            except Exception as e:\n",
    "                pass \n",
    "create_training_data()"
   ]
  },
  {
   "cell_type": "code",
   "execution_count": 6,
   "metadata": {},
   "outputs": [
    {
     "name": "stdout",
     "output_type": "stream",
     "text": [
      "40\n"
     ]
    }
   ],
   "source": [
    "print(len(train_data))"
   ]
  },
  {
   "cell_type": "markdown",
   "metadata": {},
   "source": [
    "As we expected, we have 40 training data points.\n",
    "#### Now we have to shuffle the data. Although it is not required here as we are using KNN and the data shuffling dosen't really matter. But in case of perceptron the data shuffling is of quite significance."
   ]
  },
  {
   "cell_type": "code",
   "execution_count": 7,
   "metadata": {},
   "outputs": [],
   "source": [
    "import random\n",
    "random.shuffle(train_data) #As train_data is a list hence random.shuffle is iterable"
   ]
  },
  {
   "cell_type": "code",
   "execution_count": 8,
   "metadata": {},
   "outputs": [],
   "source": [
    "train_X=[] \n",
    "train_Y=[]\n",
    "for features, labels in train_data:\n",
    "    train_X.append(features)\n",
    "    train_Y.append(labels)"
   ]
  },
  {
   "cell_type": "markdown",
   "metadata": {},
   "source": [
    "#### Our training data is now fully prepared. I have demonstrated one example below."
   ]
  },
  {
   "cell_type": "code",
   "execution_count": 9,
   "metadata": {},
   "outputs": [
    {
     "name": "stdout",
     "output_type": "stream",
     "text": [
      "It is a Dog\n"
     ]
    },
    {
     "data": {
      "image/png": "[encoded data removed]",
      "text/plain": [
       "<Figure size 432x288 with 1 Axes>"
      ]
     },
     "metadata": {
      "needs_background": "light"
     },
     "output_type": "display_data"
    }
   ],
   "source": [
    "plt.imshow(train_X[1], cmap='gray')\n",
    "print(\"It is a\", CATEGORIES[train_Y[1]])\n",
    "plt.show()"
   ]
  },
  {
   "cell_type": "markdown",
   "metadata": {},
   "source": [
    "##### As we have now completed the data collection and compilation. We need to look at feature engineering. Here we can think of data augmentation, wherein we rotate the images at certain angle to produce more data. Essentially we are fooling machine to believe that the resultant image is different from input image. This increases our data set and improves training accuracy.\n",
    "To keep the matter simple we are just going to rotate our images by 180 degrees. This will add 40 points to our training data."
   ]
  },
  {
   "cell_type": "code",
   "execution_count": 10,
   "metadata": {},
   "outputs": [],
   "source": [
    "for feature, label in train_data:\n",
    "    mirror_image=np.fliplr(feature) #Rotating each image by 180 degree\n",
    "    train_X.append(mirror_image)\n",
    "    train_Y.append(label)"
   ]
  },
  {
   "cell_type": "code",
   "execution_count": 11,
   "metadata": {},
   "outputs": [
    {
     "name": "stdout",
     "output_type": "stream",
     "text": [
      "80\n",
      "80\n"
     ]
    }
   ],
   "source": [
    "print(len(train_X))\n",
    "print(len(train_Y))"
   ]
  },
  {
   "cell_type": "markdown",
   "metadata": {},
   "source": [
    "#### Eureka! We have just converted our 40 image dataset into 80 without much hassle. Let's start with KNN."
   ]
  },
  {
   "cell_type": "code",
   "execution_count": 12,
   "metadata": {},
   "outputs": [],
   "source": [
    "DATADIR=\"/Users/kartikeygarg/Desktop/Assignment/Test\"  #Directory where images are stored in folder Cat and Dog\n",
    "CATEGORIES=[\"Cat\", \"Dog\"] #Equivalent to the names given in parent directory\n",
    "IMG_SIZE=60 #This is used to standardize the size of the image\n",
    "train_data=[] #Array to store the training data\n",
    "def create_testing_data():\n",
    "    for category in CATEGORIES:\n",
    "        path=os.path.join(DATADIR, category)\n",
    "        class_num= CATEGORIES.index(category) #Cat:0 and Dog:1\n",
    "        for img in os.listdir(path):\n",
    "            try:   #Error is called if any broken image is encountered\n",
    "                img_array=cv2.imread(os.path.join(path,img), cv2.IMREAD_GRAYSCALE) # For the sake of simplicity we are converting images into grayscale\n",
    "                new_array= cv2.resize(img_array, (IMG_SIZE,IMG_SIZE)) \n",
    "                train_data.append([new_array,class_num])\n",
    "            except Exception as e:\n",
    "                pass \n",
    "create_testing_data()\n",
    "import random\n",
    "random.shuffle(train_data)\n",
    "test_X=[] \n",
    "test_Y=[]\n",
    "for features, labels in train_data:\n",
    "    test_X.append(features)\n",
    "    test_Y.append(labels)"
   ]
  },
  {
   "cell_type": "code",
   "execution_count": 9,
   "metadata": {},
   "outputs": [],
   "source": [
    "import math"
   ]
  },
  {
   "cell_type": "code",
   "execution_count": 10,
   "metadata": {},
   "outputs": [],
   "source": [
    "def distance(train_X_point,test_X_point):\n",
    "    Sum=0;\n",
    "    euclidean_distance=round(np.sqrt(np.sum(np.square(np.subtract(train_X_point,test_X_point)))),3)\n",
    "    return euclidean_distance"
   ]
  },
  {
   "cell_type": "code",
   "execution_count": 11,
   "metadata": {},
   "outputs": [],
   "source": [
    "def smallest_set(K,train_X,train_Y,test_X_point):\n",
    "    desc_set=[]\n",
    "    for i in range(len(train_X)):\n",
    "        desc_set.append([distance(train_X[i],test_X_point),train_Y[i]])\n",
    "    return sorted(desc_set,key= lambda x: x[0])"
   ]
  },
  {
   "cell_type": "code",
   "execution_count": 12,
   "metadata": {},
   "outputs": [],
   "source": [
    "def classify(K, train_X, train_Y, test_X_point):\n",
    "    smallest_dict=smallest_set(K,train_X,train_Y,test_X_point)\n",
    "    #We are going to evaluate weight for each point\n",
    "    for i in range(len(smallest_dict)):\n",
    "        smallest_dict[i][0]=(-smallest_dict[i][0]+smallest_dict[K-1][0])/(-smallest_dict[0][0]+smallest_dict[K-1][0])\n",
    "    #Now lets add the weight for the respective classes and classify test_X_point\n",
    "    class_1=0\n",
    "    class_2=0\n",
    "    for i in range(len(smallest_dict)):\n",
    "        if(smallest_dict[i][1]==0):\n",
    "            class_1+=smallest_dict[i][0]\n",
    "        else:\n",
    "            class_2+=smallest_dict[i][0]\n",
    "    if(class_1>class_2):\n",
    "        return 0\n",
    "    else:\n",
    "        return 1"
   ]
  },
  {
   "cell_type": "code",
   "execution_count": 13,
   "metadata": {},
   "outputs": [],
   "source": [
    "def KNN(K, train_X, train_Y, test_X):\n",
    "    test_Y=[]\n",
    "    for i in range(len(test_X)):\n",
    "        test_Y.append(classify(K, train_X, train_Y, test_X[i]))\n",
    "    return test_Y"
   ]
  },
  {
   "cell_type": "code",
   "execution_count": 14,
   "metadata": {},
   "outputs": [],
   "source": [
    "def accuracy(predict_Y, test_Y):\n",
    "    predict_Y=np.array(predict_Y)\n",
    "    test_Y=np.array(test_Y)\n",
    "    result=np.subtract(predict_Y,test_Y)\n",
    "    return 1-(sum(abs(result))/len(predict_Y))"
   ]
  },
  {
   "cell_type": "code",
   "execution_count": 15,
   "metadata": {},
   "outputs": [],
   "source": [
    "accu_dict={}\n",
    "for i in range(5,81,5):\n",
    "    predict_Y=KNN(i, train_X, train_Y, test_X)  \n",
    "    accu_dict[i]=accuracy(predict_Y,test_Y)"
   ]
  },
  {
   "cell_type": "code",
   "execution_count": 16,
   "metadata": {},
   "outputs": [
    {
     "name": "stdout",
     "output_type": "stream",
     "text": [
      "{5: 0.75, 10: 1.0, 15: 0.75, 20: 0.5, 25: 0.75, 30: 0.75, 35: 0.75, 40: 0.5, 45: 0.75, 50: 0.75, 55: 0.75, 60: 0.5, 65: 0.5, 70: 0.75, 75: 0.5, 80: 0.5}\n"
     ]
    }
   ],
   "source": [
    "print(accu_dict)"
   ]
  },
  {
   "cell_type": "markdown",
   "metadata": {},
   "source": [
    "#### As we are highest accuracy somwhere between 5 and 15 we can iterate over these values"
   ]
  },
  {
   "cell_type": "code",
   "execution_count": 21,
   "metadata": {
    "scrolled": true
   },
   "outputs": [
    {
     "name": "stderr",
     "output_type": "stream",
     "text": [
      "<ipython-input-12-752cf2e6b9ff>:5: RuntimeWarning: invalid value encountered in double_scalars\n",
      "  smallest_dict[i][0]=(-smallest_dict[i][0]+smallest_dict[K-1][0])/(-smallest_dict[0][0]+smallest_dict[K-1][0])\n"
     ]
    }
   ],
   "source": [
    "accu_dict2={}\n",
    "for i in range(1,20,1):\n",
    "    predict_Y=KNN(i, train_X, train_Y, test_X)\n",
    "    accu_dict2[i]=accuracy(predict_Y,test_Y)"
   ]
  },
  {
   "cell_type": "code",
   "execution_count": 22,
   "metadata": {},
   "outputs": [
    {
     "name": "stdout",
     "output_type": "stream",
     "text": [
      "{1: 0.5, 2: 0.5, 3: 0.25, 4: 0.5, 5: 0.75, 6: 0.75, 7: 1.0, 8: 1.0, 9: 1.0, 10: 1.0, 11: 1.0, 12: 0.75, 13: 0.75, 14: 0.75, 15: 0.75, 16: 0.5, 17: 0.75, 18: 0.5, 19: 0.75}\n"
     ]
    }
   ],
   "source": [
    "print(accu_dict2)"
   ]
  },
  {
   "cell_type": "markdown",
   "metadata": {},
   "source": [
    "#### It is clear from above iteration that model achieves highest accuracy between 7-11. This model has achieved perfect accuracy."
   ]
  },
  {
   "cell_type": "code",
   "execution_count": 19,
   "metadata": {},
   "outputs": [],
   "source": [
    "predict_Y=KNN(10, train_X, train_Y, test_X)  \n",
    "accu=accuracy(predict_Y,test_Y)"
   ]
  },
  {
   "cell_type": "code",
   "execution_count": 20,
   "metadata": {
    "scrolled": true
   },
   "outputs": [
    {
     "name": "stdout",
     "output_type": "stream",
     "text": [
      "It is a Cat\n"
     ]
    },
    {
     "data": {
      "image/png": "[encoded data removed]",
      "text/plain": [
       "<Figure size 432x288 with 1 Axes>"
      ]
     },
     "metadata": {
      "needs_background": "light"
     },
     "output_type": "display_data"
    }
   ],
   "source": [
    "plt.imshow(test_X[0])\n",
    "print(\"It is a\",CATEGORIES[predict_Y[0]])\n",
    "plt.show()"
   ]
  },
  {
   "cell_type": "markdown",
   "metadata": {},
   "source": []
  }
 ],
 "metadata": {
  "kernelspec": {
   "display_name": "Python 3",
   "language": "python",
   "name": "python3"
  },
  "language_info": {
   "codemirror_mode": {
    "name": "ipython",
    "version": 3
   },
   "file_extension": ".py",
   "mimetype": "text/x-python",
   "name": "python",
   "nbconvert_exporter": "python",
   "pygments_lexer": "ipython3",
   "version": "3.8.3"
  }
 },
 "nbformat": 4,
 "nbformat_minor": 4
}
